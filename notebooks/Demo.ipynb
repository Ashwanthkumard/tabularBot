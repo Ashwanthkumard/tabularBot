{
 "cells": [
  {
   "cell_type": "code",
   "execution_count": 1,
   "id": "6f4aecc8-b1ff-4ead-a0f5-dbb176cceaed",
   "metadata": {},
   "outputs": [],
   "source": [
    "import pymupdf\n",
    "import os\n",
    "import pymupdf4llm\n",
    "import getpass\n",
    "from pydantic import BaseModel\n",
    "import pandas as pd\n",
    "import csv\n",
    "import io\n",
    "from pandasai import Agent"
   ]
  },
  {
   "cell_type": "code",
   "execution_count": 2,
   "id": "337e97a0-e7f1-4df0-b21c-ba240981ba37",
   "metadata": {},
   "outputs": [],
   "source": [
    "dic_path = '/Users/ashwanth/Data/Wines/May/Indents'"
   ]
  },
  {
   "cell_type": "code",
   "execution_count": 3,
   "id": "b7432544-fbd2-40af-8163-45b9bd0cddf9",
   "metadata": {},
   "outputs": [],
   "source": [
    "def get_all_files(dic_path):\n",
    "    return os.listdir(dic_path)"
   ]
  },
  {
   "cell_type": "code",
   "execution_count": 4,
   "id": "afd5adab-5364-4931-aacf-a467f3a134c3",
   "metadata": {},
   "outputs": [],
   "source": [
    "files = get_all_files(dic_path)"
   ]
  },
  {
   "cell_type": "code",
   "execution_count": 5,
   "id": "1500ebfc-1d98-43ce-88ec-ba4ff98fecbf",
   "metadata": {},
   "outputs": [],
   "source": [
    "def extract_data_from_file(file):\n",
    "    doc = pymupdf.open(file)\n",
    "    all_text = \"\"\n",
    "    for page in doc:\n",
    "        text = page.get_text()\n",
    "        all_text += text\n",
    "    return all_text"
   ]
  },
  {
   "cell_type": "code",
   "execution_count": 6,
   "id": "f2d692e6-1ae7-472e-88b0-a669fb5d500d",
   "metadata": {},
   "outputs": [
    {
     "name": "stdin",
     "output_type": "stream",
     "text": [
      "Enter API KEY:  ········\n"
     ]
    }
   ],
   "source": [
    "api_key = getpass.getpass(\"Enter API KEY: \")"
   ]
  },
  {
   "cell_type": "code",
   "execution_count": 8,
   "id": "cb479cd5-2bee-43f6-9bce-fda0f23b7a4d",
   "metadata": {},
   "outputs": [],
   "source": [
    "from openai import OpenAI\n",
    "\n",
    "client = OpenAI(\n",
    "    api_key = api_key,\n",
    ")\n"
   ]
  },
  {
   "cell_type": "code",
   "execution_count": 9,
   "id": "a4f37b64-d22f-44a2-ab12-fab3a1af2bdb",
   "metadata": {},
   "outputs": [],
   "source": [
    "class InvoiceDataExtraction(BaseModel):\n",
    "    data: pd.DataFrame\n",
    "\n",
    "    class Config:\n",
    "        arbitrary_types_allowed = True\n"
   ]
  },
  {
   "cell_type": "code",
   "execution_count": 10,
   "id": "ffe123fc-0a77-407e-abe5-2a555802083c",
   "metadata": {},
   "outputs": [],
   "source": [
    "all_data = []\n",
    "\n",
    "for file in files:\n",
    "    completion = client.beta.chat.completions.parse(\n",
    "    model=\"gpt-4o-2024-08-06\",\n",
    "    messages=[\n",
    "        {\"role\": \"system\", \"content\": \"You are an expert at structured data extraction. You will be given unstructured text from the invoices and you return BrandName, Qty, Price in a csv format.\"},\n",
    "        {\"role\": \"user\", \"content\": extract_data_from_file(os.path.join(dic_path,file))}\n",
    "    ],\n",
    "    #response_format=InvoiceDataExtraction,\n",
    "    )\n",
    "    csv_content = completion.choices[0].message.content.strip(\"```csv\\n\").strip(\"```\")\n",
    "\n",
    "    # Parse the CSV content\n",
    "    csv_reader = csv.DictReader(io.StringIO(csv_content))\n",
    "    data = pd.DataFrame(csv_reader, columns=['BrandName', 'Qty', 'Price'])\n",
    "    all_data.append(data)\n",
    "    \n",
    "\n",
    "    "
   ]
  },
  {
   "cell_type": "code",
   "execution_count": 11,
   "id": "ec6f6df0-55e3-416e-82b5-2c13b4957c1e",
   "metadata": {},
   "outputs": [],
   "source": [
    "df = pd.concat(all_data, ignore_index=True, axis=0)"
   ]
  },
  {
   "cell_type": "code",
   "execution_count": 12,
   "id": "23ac7283-a182-47ef-9a1b-c523a46f0a31",
   "metadata": {},
   "outputs": [
    {
     "data": {
      "text/html": [
       "<div>\n",
       "<style scoped>\n",
       "    .dataframe tbody tr th:only-of-type {\n",
       "        vertical-align: middle;\n",
       "    }\n",
       "\n",
       "    .dataframe tbody tr th {\n",
       "        vertical-align: top;\n",
       "    }\n",
       "\n",
       "    .dataframe thead th {\n",
       "        text-align: right;\n",
       "    }\n",
       "</style>\n",
       "<table border=\"1\" class=\"dataframe\">\n",
       "  <thead>\n",
       "    <tr style=\"text-align: right;\">\n",
       "      <th></th>\n",
       "      <th>BrandName</th>\n",
       "      <th>Qty</th>\n",
       "      <th>Price</th>\n",
       "    </tr>\n",
       "  </thead>\n",
       "  <tbody>\n",
       "    <tr>\n",
       "      <th>0</th>\n",
       "      <td>KING FISHER STRONG P</td>\n",
       "      <td>10</td>\n",
       "      <td>13010</td>\n",
       "    </tr>\n",
       "    <tr>\n",
       "      <th>1</th>\n",
       "      <td>KNOCKOUT HIGH PUNCH</td>\n",
       "      <td>30</td>\n",
       "      <td>39030</td>\n",
       "    </tr>\n",
       "    <tr>\n",
       "      <th>2</th>\n",
       "      <td>BUDWEISER KING OF BE</td>\n",
       "      <td>10</td>\n",
       "      <td>18010</td>\n",
       "    </tr>\n",
       "    <tr>\n",
       "      <th>3</th>\n",
       "      <td>BUDWEISER MAGNUM PRE</td>\n",
       "      <td>20</td>\n",
       "      <td>38020</td>\n",
       "    </tr>\n",
       "    <tr>\n",
       "      <th>4</th>\n",
       "      <td>KING FISHER PREMIUM</td>\n",
       "      <td>55</td>\n",
       "      <td>66055</td>\n",
       "    </tr>\n",
       "  </tbody>\n",
       "</table>\n",
       "</div>"
      ],
      "text/plain": [
       "              BrandName Qty  Price\n",
       "0  KING FISHER STRONG P  10  13010\n",
       "1   KNOCKOUT HIGH PUNCH  30  39030\n",
       "2  BUDWEISER KING OF BE  10  18010\n",
       "3  BUDWEISER MAGNUM PRE  20  38020\n",
       "4   KING FISHER PREMIUM  55  66055"
      ]
     },
     "execution_count": 12,
     "metadata": {},
     "output_type": "execute_result"
    }
   ],
   "source": [
    "df.head()"
   ]
  },
  {
   "cell_type": "code",
   "execution_count": 13,
   "id": "3dec376b-7f07-49fd-8cea-e1862d57765b",
   "metadata": {},
   "outputs": [],
   "source": [
    "df.to_csv('Stock.csv')"
   ]
  },
  {
   "cell_type": "markdown",
   "id": "fc504bac-c339-4b9d-8f1c-6b0ed2a24132",
   "metadata": {},
   "source": [
    "### Use OpenAI"
   ]
  },
  {
   "cell_type": "code",
   "execution_count": 22,
   "id": "994fd7f6-ec1a-41c1-8670-98800ec8d6ee",
   "metadata": {},
   "outputs": [
    {
     "name": "stdin",
     "output_type": "stream",
     "text": [
      "Provide Brand Name ->  Black & White\n"
     ]
    },
    {
     "name": "stdout",
     "output_type": "stream",
     "text": [
      "Assistant: From the provided data, it seems you are interested in aggregating the quantity (`Qty`) specifically for the brand \"Black & White\". Based on the information, we look for entries in the \"BrandName\" column that include \"Black & White\" and sum the associated quantities. Here's how the aggregation is determined:\n",
      "\n",
      "1. Locate entries for \"Black White Blended\" and \"Black White Blende\".\n",
      "2. Sum the quantities for these entries.\n",
      "\n",
      "Entries:\n",
      "- `BLACK WHITE BLENDED` has a Qty of 1.\n",
      "- `BLACK WHITE BLENDE` has a Qty of 1.\n",
      "\n",
      "Calculating the total quantity for \"Black & White\":\n",
      "\n",
      "Total Qty = 1 (BLACK WHITE BLENDED) + 1 (BLACK WHITE BLENDE) = 2\n",
      "\n",
      "Therefore, the total quantity for the brand \"Black & White\" is 2.\n"
     ]
    },
    {
     "name": "stdin",
     "output_type": "stream",
     "text": [
      "Provide Brand Name ->  100 Piper\n"
     ]
    },
    {
     "name": "stdout",
     "output_type": "stream",
     "text": [
      "Assistant: The brand \"Seagram's 100 Pipers\" appears twice in the dataset. To find the total quantity (Qty) for \"100 Pipers,\" we need to sum the Qty for both entries:\n",
      "\n",
      "1. At index 89: Qty = 1\n",
      "2. At index 100: Qty = 3\n",
      "\n",
      "Total Qty for \"Seagram's 100 Pipers\" = 1 + 3 = **4**\n"
     ]
    },
    {
     "name": "stdin",
     "output_type": "stream",
     "text": [
      "Provide Brand Name ->  BSP\n"
     ]
    },
    {
     "name": "stdout",
     "output_type": "stream",
     "text": [
      "Assistant: The given data does not explicitly include a brand labeled \"BSP\". It seems that the list might be a selection of beverage brands, and \"BSP\" might be an abbreviation or a typo. If \"BSP\" relates to a part of a larger collection or a code than a specific brand name detail, or is meant to be associated with entries that contain a specific commonality, please provide additional clarifications or specify whether \"BSP\" is contained within any provided data elements. \n",
      "\n",
      "Otherwise, we can conclude that none of the listed entries corresponds to a brand named \"BSP\", and thus it does not have a designated quantity (Qty) specified in the supplied dataset.\n"
     ]
    },
    {
     "name": "stdin",
     "output_type": "stream",
     "text": [
      "Provide Brand Name ->  Royal Stag\n"
     ]
    },
    {
     "name": "stdout",
     "output_type": "stream",
     "text": [
      "Assistant: To find the total quantity (Qty) for the brand \"Royal Stag,\" we need to look for all entries that correspond to \"Royal Stag\" in various representations of the brand name and then sum up the quantities.\n",
      "\n",
      "Let's identify all potential variations related to \"Royal Stag\":\n",
      "\n",
      "- \"SEAGRAM`S ROYAL STAG\"\n",
      "- \"SEAGRAM'S ROYAL STAG\" \n",
      "- Prefixes like \"SEAGRAM`S ROYAL STAG\" with different sizes or codes such as \"(0259LLG)\", \"(0259PPG)\", etc.\n",
      "- Entries with names like \"ROYAL STAG\".\n",
      "\n",
      "Now, let's aggregate the quantities:\n",
      "\n",
      "1. **SEAGRAM`S ROYAL STAG (0259LLG)**\n",
      "   - Qty: 2\n",
      "\n",
      "2. **SEAGRAM`S ROYAL STAG (0259PPG)**\n",
      "   - Qty: 2 (Entry 19)\n",
      "   - Qty: 2 (Entry 33)\n",
      "   - Qty: 1 (Entry 125)\n",
      "\n",
      "3. **SEAGRAM`S ROYAL STAG (0259QQG)**\n",
      "   - Qty: 3 (Entry 20)\n",
      "   - Qty: 2 (Entry 147)\n",
      "   - Qty: 1 (Entry 126)\n",
      "   - Qty: 1 (Entry 200)\n",
      "\n",
      "4. **SEAGRAM`S ROYAL STAG (0259NNG)**\n",
      "   - Qty: 4 (Entry 127)\n",
      "\n",
      "5. **SEAGRAM`S ROYAL STAG**\n",
      "   - Qty: 3 (Entry 108)\n",
      "   - Qty: 4 (Entry 114)\n",
      "   - Qty: 2 (Entry 176)\n",
      "   - Qty: 1 (Entry 169)\n",
      "\n",
      "6. **SEAGRAM'S ROYAL STAG 90ml**\n",
      "   - Qty: 1\n",
      "\n",
      "7. **SEAGRAM'S ROYAL STAG 180ml**\n",
      "   - Qty: 1\n",
      "\n",
      "8. **SEAGRAM'S ROYAL STAG 375ml**\n",
      "   - Qty: 1\n",
      "\n",
      "9. **SEAGRAM'S ROYAL STAG 750ml**\n",
      "   - Qty: 1\n",
      "\n",
      "Adding all the quantities together:\n",
      "\n",
      "Total Qty for Royal Stag = 2 (0259LLG) + 2 + 2 + 1 (0259PPG) + 3 + 2 + 1 + 1 (0259QQG) + 4 (0259NNG) + 3 + 4 + 2 + 1 (SEAGRAM'S ROYAL STAG variations) + 1 + 1 + 1 + 1 (size descriptive entries)\n",
      "\n",
      "= 2 + (2 + 2 + 1) + (3 + 2 + 1 + 1) + 4  + (3 + 4 + 2 + 1) + 1 + 1 + 1 + 1\n",
      "\n",
      "= 2 + 5 + 7 + 4 + 10 + 1 + 1 + 1 + 1\n",
      "\n",
      "= 32\n",
      "\n",
      "The total quantity for the brand \"Royal Stag\" is 32.\n"
     ]
    },
    {
     "name": "stdin",
     "output_type": "stream",
     "text": [
      "Provide Brand Name ->  M.C.Whisky\n"
     ]
    },
    {
     "name": "stdout",
     "output_type": "stream",
     "text": [
      "Assistant: The data you provided does not contain any entries for the brand \"M.C.Whisky.\" Therefore, there is no quantity (\"Qty\") associated with this brand in the given data. If you have any other questions or data to analyze, feel free to ask!\n"
     ]
    },
    {
     "name": "stdin",
     "output_type": "stream",
     "text": [
      "Provide Brand Name ->  Knock Out\n"
     ]
    },
    {
     "name": "stdout",
     "output_type": "stream",
     "text": [
      "Assistant: To aggregate the quantity (Qty) for the brand Knock Out, we need to sum up the Qty values for all occurrences of the brand name \"KNOCKOUT HIGH PUNCH\".\n",
      "\n",
      "Here are the records where the brand is \"KNOCKOUT HIGH PUNCH\":\n",
      "\n",
      "1. KNOCKOUT HIGH PUNCH  - Qty: 30\n",
      "2. KNOCKOUT HIGH PUNCH  - Qty: 2\n",
      "3. KNOCKOUT HIGH PUNCH  - Qty: 5\n",
      "4. KNOCKOUT HIGH PUNCH  - Qty: 9\n",
      "5. KNOCKOUT HIGH PUNCH  - Qty: 35\n",
      "6. KNOCKOUT HIGH PUNCH  - Qty: 45\n",
      "7. KNOCKOUT HIGH PUNCH  - Qty: 22\n",
      "8. KNOCKOUT HIGH PUNCH  - Qty: 30\n",
      "9. KNOCKOUT HIGH PUNCH  - Qty: 15\n",
      "10. KNOCKOUT HIGH PUNCH - Qty: 13\n",
      "11. KNOCKOUT HIGH PUNCH (5030BSG) 650ml - Qty: 20\n",
      "12. KNOCKOUT HIGH PUNCH (5030BSG) 650ml - Qty: 31\n",
      "13. KNOCKOUT HIGH PUNCH (5030BSG) 650ml - Qty: 20\n",
      "\n",
      "Now, summing all the quantities for these records:\n",
      "\n",
      "30 + 2 + 5 + 9 + 35 + 45 + 22 + 30 + 15 + 13 + 20 + 31 + 20 = **277**\n",
      "\n",
      "Therefore, the total quantity (Qty) for the brand \"KNOCKOUT HIGH PUNCH\" is **277**.\n"
     ]
    },
    {
     "name": "stdin",
     "output_type": "stream",
     "text": [
      "Provide Brand Name ->  KF Strong\n"
     ]
    },
    {
     "name": "stdout",
     "output_type": "stream",
     "text": [
      "Assistant: To find the total quantity (Qty) for the brand \"KF Strong,\" we need to consider all variations of its name as might be present in the dataset. In the given data, the brand \"KF Strong\" can appear as \"KING FISHER STRONG\" or any variations with similar patterns.\n",
      "\n",
      "Let's go through the dataset entries for \"KING FISHER STRONG\" and its variations:\n",
      "1. **KING FISHER STRONG P**: \n",
      "   - Row 0: Qty 10\n",
      "   - Row 11: Qty 10\n",
      "   - Row 37: Qty 10\n",
      "   - Row 60: Qty 9\n",
      "   - Row 91: Qty 10\n",
      "   - Row 103: Qty 9\n",
      "\n",
      "2. **KING FISHER STRONG**:\n",
      "   - Row 116: Qty 10\n",
      "\n",
      "3. **KING FISHER STRONG P 650ml** or longer variations:\n",
      "   - Row 29 (including additional prefix/suffix as \"(5017BSG)\"): Qty 2\n",
      "   - Row 143 (including additional prefix/suffix as \"(5017BSG)\"): Qty 7\n",
      "   - Row 196 (including additional prefix/suffix as \"(5017BSG) 650ml\"): Qty 8\n",
      "\n",
      "To calculate the total quantity for \"KF Strong,\" sum up these quantities:\n",
      "\n",
      "- From \"KING FISHER STRONG P\": \\(10 + 10 + 10 + 9 + 10 + 9 = 58\\)\n",
      "- From \"KING FISHER STRONG\" variations: \\(10\\)\n",
      "- From \"KING FISHER STRONG P 650ml\" variations: \\(2 + 7 + 8 = 17\\)\n",
      "\n",
      "**Total Qty for KF Strong** = \\(58 + 10 + 17 = 85\\)\n"
     ]
    },
    {
     "name": "stdin",
     "output_type": "stream",
     "text": [
      "Provide Brand Name ->  Hay 5000 Strong\n"
     ]
    },
    {
     "name": "stdout",
     "output_type": "stream",
     "text": [
      "Assistant: To find the aggregate quantity for the brand \"Hay 5000 Strong\", let's check your provided list against the correct brand name. It appears you may be referring to \"HAYWARDS 5000 SUPER\", which is the closest match based on your provided data.\n",
      "\n",
      "Now, let's sum the quantities (Qty) for \"HAYWARDS 5000 SUPER\":\n",
      "\n",
      "- At index 76: 7\n",
      "- At index 122: 10\n",
      "- At index 171: 10\n",
      "- At index 183: 20\n",
      "- At index 193: 5\n",
      "\n",
      "Adding these together:\n",
      "\n",
      "7 + 10 + 10 + 20 + 5 = 52\n",
      "\n",
      "Therefore, the total quantity for \"HAYWARDS 5000 SUPER\" is 52.\n"
     ]
    },
    {
     "name": "stdin",
     "output_type": "stream",
     "text": [
      "Provide Brand Name ->  exit\n"
     ]
    },
    {
     "name": "stdout",
     "output_type": "stream",
     "text": [
      "Terminating the process!\n"
     ]
    }
   ],
   "source": [
    "while True:\n",
    "    # Take input from the user\n",
    "    user_input = input(\"Provide Brand Name -> \")\n",
    "\n",
    "    # Check if the user wants to quit\n",
    "    if user_input.lower() in [\"exit\", \"quit\"]:\n",
    "        print(\"Terminating the process!\")\n",
    "        break\n",
    "\n",
    "    try:\n",
    "        completion = client.chat.completions.create(\n",
    "          model=\"gpt-4o-2024-08-06\",\n",
    "          messages=[\n",
    "            {\"role\": \"system\", \"content\": \"You are a helpful assistant. Help me aggregate the qty from the following data and provide the qty for the brand {}\".format(user_input)}, # <-- This is the system message that provides context to the model\n",
    "            {\"role\": \"user\", \"content\": df.to_string()} \n",
    "          ]\n",
    "        )\n",
    "        \n",
    "        print(\"Assistant: \" + completion.choices[0].message.content)\n",
    "    except Exception as e:\n",
    "        print(f\"Error: {e}\")"
   ]
  },
  {
   "cell_type": "code",
   "execution_count": null,
   "id": "8d1b3b31-8400-4dae-9f45-14ffaa38915e",
   "metadata": {},
   "outputs": [],
   "source": []
  }
 ],
 "metadata": {
  "kernelspec": {
   "display_name": "tabularbot",
   "language": "python",
   "name": "tabularbot"
  },
  "language_info": {
   "codemirror_mode": {
    "name": "ipython",
    "version": 3
   },
   "file_extension": ".py",
   "mimetype": "text/x-python",
   "name": "python",
   "nbconvert_exporter": "python",
   "pygments_lexer": "ipython3",
   "version": "3.12.4"
  }
 },
 "nbformat": 4,
 "nbformat_minor": 5
}
