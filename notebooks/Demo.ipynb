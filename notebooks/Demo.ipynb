{
 "cells": [
  {
   "cell_type": "code",
   "execution_count": 77,
   "id": "6f4aecc8-b1ff-4ead-a0f5-dbb176cceaed",
   "metadata": {},
   "outputs": [],
   "source": [
    "import pymupdf\n",
    "import os\n",
    "import pymupdf4llm\n",
    "import getpass\n",
    "from pydantic import BaseModel\n",
    "import pandas as pd\n",
    "import csv\n",
    "import io"
   ]
  },
  {
   "cell_type": "code",
   "execution_count": 7,
   "id": "337e97a0-e7f1-4df0-b21c-ba240981ba37",
   "metadata": {},
   "outputs": [],
   "source": [
    "dic_path = '/Users/ashwanth/Data/Wines/May/Indents'"
   ]
  },
  {
   "cell_type": "code",
   "execution_count": 12,
   "id": "b7432544-fbd2-40af-8163-45b9bd0cddf9",
   "metadata": {},
   "outputs": [],
   "source": [
    "def get_all_files(dic_path):\n",
    "    return os.listdir(dic_path)"
   ]
  },
  {
   "cell_type": "code",
   "execution_count": 13,
   "id": "afd5adab-5364-4931-aacf-a467f3a134c3",
   "metadata": {},
   "outputs": [],
   "source": [
    "files = get_all_files(dic_path)"
   ]
  },
  {
   "cell_type": "code",
   "execution_count": 35,
   "id": "1500ebfc-1d98-43ce-88ec-ba4ff98fecbf",
   "metadata": {},
   "outputs": [],
   "source": [
    "def extract_data_from_file(file):\n",
    "    doc = pymupdf.open(file)\n",
    "    all_text = \"\"\n",
    "    for page in doc:\n",
    "        text = page.get_text()\n",
    "        all_text += text\n",
    "    return all_text"
   ]
  },
  {
   "cell_type": "code",
   "execution_count": 45,
   "id": "f2d692e6-1ae7-472e-88b0-a669fb5d500d",
   "metadata": {},
   "outputs": [
    {
     "name": "stdin",
     "output_type": "stream",
     "text": [
      "Enter API KEY:  ········\n"
     ]
    }
   ],
   "source": [
    "api_key = getpass.getpass(\"Enter API KEY: \")"
   ]
  },
  {
   "cell_type": "code",
   "execution_count": 56,
   "id": "cb479cd5-2bee-43f6-9bce-fda0f23b7a4d",
   "metadata": {},
   "outputs": [],
   "source": [
    "import openai\n",
    "\n",
    "client = OpenAI(\n",
    "    api_key = api_key,\n",
    ")\n"
   ]
  },
  {
   "cell_type": "code",
   "execution_count": 58,
   "id": "a4f37b64-d22f-44a2-ab12-fab3a1af2bdb",
   "metadata": {},
   "outputs": [],
   "source": [
    "class InvoiceDataExtraction(BaseModel):\n",
    "    data: pd.DataFrame\n",
    "\n",
    "    class Config:\n",
    "        arbitrary_types_allowed = True\n"
   ]
  },
  {
   "cell_type": "code",
   "execution_count": 122,
   "id": "ffe123fc-0a77-407e-abe5-2a555802083c",
   "metadata": {},
   "outputs": [],
   "source": [
    "all_data = []\n",
    "\n",
    "for file in files:\n",
    "    completion = client.beta.chat.completions.parse(\n",
    "    model=\"gpt-4o-2024-08-06\",\n",
    "    messages=[\n",
    "        {\"role\": \"system\", \"content\": \"You are an expert at structured data extraction. You will be given unstructured text from the invoices and you return BrandName, Qty, Price in a csv format.\"},\n",
    "        {\"role\": \"user\", \"content\": extract_data_from_file(os.path.join(dic_path,file))}\n",
    "    ],\n",
    "    #response_format=InvoiceDataExtraction,\n",
    "    )\n",
    "    csv_content = completion.choices[0].message.content.strip(\"```csv\\n\").strip(\"```\")\n",
    "\n",
    "    # Parse the CSV content\n",
    "    csv_reader = csv.DictReader(io.StringIO(csv_content))\n",
    "    data = pd.DataFrame(csv_reader, columns=['BrandName', 'Qty', 'Price'])\n",
    "    all_data.append(data)\n",
    "    \n",
    "\n",
    "    "
   ]
  },
  {
   "cell_type": "code",
   "execution_count": 123,
   "id": "ec6f6df0-55e3-416e-82b5-2c13b4957c1e",
   "metadata": {},
   "outputs": [],
   "source": [
    "df = pd.concat(all_data, ignore_index=True, axis=0)"
   ]
  },
  {
   "cell_type": "code",
   "execution_count": 125,
   "id": "23ac7283-a182-47ef-9a1b-c523a46f0a31",
   "metadata": {},
   "outputs": [
    {
     "data": {
      "text/html": [
       "<div>\n",
       "<style scoped>\n",
       "    .dataframe tbody tr th:only-of-type {\n",
       "        vertical-align: middle;\n",
       "    }\n",
       "\n",
       "    .dataframe tbody tr th {\n",
       "        vertical-align: top;\n",
       "    }\n",
       "\n",
       "    .dataframe thead th {\n",
       "        text-align: right;\n",
       "    }\n",
       "</style>\n",
       "<table border=\"1\" class=\"dataframe\">\n",
       "  <thead>\n",
       "    <tr style=\"text-align: right;\">\n",
       "      <th></th>\n",
       "      <th>BrandName</th>\n",
       "      <th>Qty</th>\n",
       "      <th>Price</th>\n",
       "    </tr>\n",
       "  </thead>\n",
       "  <tbody>\n",
       "    <tr>\n",
       "      <th>0</th>\n",
       "      <td>KING FISHER STRONG P</td>\n",
       "      <td>10</td>\n",
       "      <td>13010</td>\n",
       "    </tr>\n",
       "    <tr>\n",
       "      <th>1</th>\n",
       "      <td>KNOCKOUT HIGH PUNCH</td>\n",
       "      <td>30</td>\n",
       "      <td>39030</td>\n",
       "    </tr>\n",
       "    <tr>\n",
       "      <th>2</th>\n",
       "      <td>BUDWEISER KING OF BE</td>\n",
       "      <td>10</td>\n",
       "      <td>18010</td>\n",
       "    </tr>\n",
       "    <tr>\n",
       "      <th>3</th>\n",
       "      <td>BUDWEISER MAGNUM PRE</td>\n",
       "      <td>20</td>\n",
       "      <td>38020</td>\n",
       "    </tr>\n",
       "    <tr>\n",
       "      <th>4</th>\n",
       "      <td>KING FISHER PREMIUM</td>\n",
       "      <td>55</td>\n",
       "      <td>66055</td>\n",
       "    </tr>\n",
       "  </tbody>\n",
       "</table>\n",
       "</div>"
      ],
      "text/plain": [
       "              BrandName Qty  Price\n",
       "0  KING FISHER STRONG P  10  13010\n",
       "1   KNOCKOUT HIGH PUNCH  30  39030\n",
       "2  BUDWEISER KING OF BE  10  18010\n",
       "3  BUDWEISER MAGNUM PRE  20  38020\n",
       "4   KING FISHER PREMIUM  55  66055"
      ]
     },
     "execution_count": 125,
     "metadata": {},
     "output_type": "execute_result"
    }
   ],
   "source": [
    "df.head()"
   ]
  },
  {
   "cell_type": "code",
   "execution_count": 126,
   "id": "0d7a9c98-2659-40ba-b080-ac7a0774e5b7",
   "metadata": {},
   "outputs": [
    {
     "name": "stderr",
     "output_type": "stream",
     "text": [
      "python(31961) MallocStackLogging: can't turn off malloc stack logging because it was not enabled.\n"
     ]
    }
   ],
   "source": [
    "from pandasai import Agent\n"
   ]
  },
  {
   "cell_type": "code",
   "execution_count": 128,
   "id": "52d2119d-96b0-4167-8128-e9d71c14d81a",
   "metadata": {},
   "outputs": [
    {
     "name": "stdin",
     "output_type": "stream",
     "text": [
      "Enter PandasAI API Key: ········\n"
     ]
    }
   ],
   "source": [
    "pandasai_api_key = getpass.getpass(\"Enter PandasAI API Key:\")"
   ]
  },
  {
   "cell_type": "code",
   "execution_count": 130,
   "id": "74e7eaa3-08ac-4414-a8bb-6afe47dcfe5f",
   "metadata": {},
   "outputs": [],
   "source": [
    "os.environ['PANDASAI_API_KEY'] = pandasai_api_key"
   ]
  },
  {
   "cell_type": "code",
   "execution_count": 131,
   "id": "508cdcbe-e653-4da1-b2b0-41f1c6f3d653",
   "metadata": {},
   "outputs": [],
   "source": [
    "agent = Agent(df)"
   ]
  },
  {
   "cell_type": "code",
   "execution_count": 133,
   "id": "b9ec1382-efd8-4580-ac45-76d3b89b2eb3",
   "metadata": {},
   "outputs": [
    {
     "name": "stderr",
     "output_type": "stream",
     "text": [
      "Traceback (most recent call last):\n",
      "  File \"/opt/anaconda3/lib/python3.12/site-packages/pandasai/pipelines/chat/generate_chat_pipeline.py\", line 335, in run\n",
      "    ).run(input)\n",
      "      ^^^^^^^^^^\n",
      "  File \"/opt/anaconda3/lib/python3.12/site-packages/pandasai/pipelines/pipeline.py\", line 137, in run\n",
      "    raise e\n",
      "  File \"/opt/anaconda3/lib/python3.12/site-packages/pandasai/pipelines/pipeline.py\", line 101, in run\n",
      "    step_output = logic.execute(\n",
      "                  ^^^^^^^^^^^^^^\n",
      "  File \"/opt/anaconda3/lib/python3.12/site-packages/pandasai/pipelines/chat/prompt_generation.py\", line 37, in execute\n",
      "    self.logger.log(f\"Using prompt: {prompt}\")\n",
      "                                    ^^^^^^^^\n",
      "  File \"/opt/anaconda3/lib/python3.12/site-packages/pandasai/prompts/base.py\", line 55, in __str__\n",
      "    return self.to_string()\n",
      "           ^^^^^^^^^^^^^^^^\n",
      "  File \"/opt/anaconda3/lib/python3.12/site-packages/pandasai/prompts/base.py\", line 50, in to_string\n",
      "    self._resolved_prompt = self.prompt.render(**self.props)\n",
      "                            ^^^^^^^^^^^^^^^^^^^^^^^^^^^^^^^^\n",
      "  File \"/opt/anaconda3/lib/python3.12/site-packages/jinja2/environment.py\", line 1304, in render\n",
      "    self.environment.handle_exception()\n",
      "  File \"/opt/anaconda3/lib/python3.12/site-packages/jinja2/environment.py\", line 939, in handle_exception\n",
      "    raise rewrite_traceback_stack(source=source)\n",
      "  File \"/opt/anaconda3/lib/python3.12/site-packages/pandasai/prompts/templates/generate_python_code.tmpl\", line 1, in top-level template code\n",
      "    {% for df in context.dfs %}{% set index = loop.index %}{% include 'shared/dataframe.tmpl' with context %}{% endfor %}\n",
      "    ^^^^^^^^^^^^^^^^^^^^^^^^^\n",
      "  File \"/opt/anaconda3/lib/python3.12/site-packages/pandasai/prompts/templates/shared/dataframe.tmpl\", line 1, in top-level template code\n",
      "    {{ df.to_string(index-1, context.config.direct_sql, context.config.dataframe_serializer, context.config.enforce_privacy) }}\n",
      "    ^^^^^^^^^^^^^^^^^^^^^^^^^\n",
      "  File \"/opt/anaconda3/lib/python3.12/site-packages/pandasai/connectors/base.py\", line 284, in to_string\n",
      "    return DataframeSerializer().serialize(\n",
      "           ^^^^^^^^^^^^^^^^^^^^^^^^^^^^^^^^\n",
      "  File \"/opt/anaconda3/lib/python3.12/site-packages/pandasai/helpers/dataframe_serializer.py\", line 33, in serialize\n",
      "    return self.convert_df_to_csv(df, extras)\n",
      "           ^^^^^^^^^^^^^^^^^^^^^^^^^^^^^^^^^^\n",
      "  File \"/opt/anaconda3/lib/python3.12/site-packages/pandasai/helpers/dataframe_serializer.py\", line 58, in convert_df_to_csv\n",
      "    dataframe_info += f\"\\ndfs[{extras['index']}]:{df.rows_count}x{df.columns_count}\\n{df.to_csv()}\"\n",
      "                                                                                      ^^^^^^^^^^^\n",
      "  File \"/opt/anaconda3/lib/python3.12/site-packages/pandasai/connectors/base.py\", line 265, in to_csv\n",
      "    return self.get_head().to_csv(index=False)\n",
      "           ^^^^^^^^^^^^^^^^^^^^^^^^^^^^^^^^^^^\n",
      "  File \"/opt/anaconda3/lib/python3.12/site-packages/pandas/util/_decorators.py\", line 333, in wrapper\n",
      "    # error: \"Callable[[VarArg(Any), KwArg(Any)], Any]\" has no\n",
      "               ^^^^^^^^^^^^^^^^^^^^^\n",
      "  File \"/opt/anaconda3/lib/python3.12/site-packages/pandas/core/generic.py\", line 3967, in to_csv\n",
      "    class  animal  locomotion\n",
      "           ^^^^^^^^^^^^^^^^^^\n",
      "  File \"/opt/anaconda3/lib/python3.12/site-packages/pandas/io/formats/format.py\", line 995, in to_csv\n",
      "    if self.header:\n",
      "                    \n",
      "  File \"/opt/anaconda3/lib/python3.12/site-packages/pandas/io/formats/csvs.py\", line 89, in __init__\n",
      "    self.cols = self._initialize_columns(cols)\n",
      "                ^^^^^^^^^^^^^^^^^^^^^^^^^^^^^^\n",
      "  File \"/opt/anaconda3/lib/python3.12/site-packages/pandas/io/formats/csvs.py\", line 161, in _initialize_columns\n",
      "    return new_cols._format_native_types(**self._number_format)\n",
      "           ^^^^^^^^^^^^^^^^^^^^^^^^^^^^^\n",
      "AttributeError: 'Index' object has no attribute '_format_native_types'\n"
     ]
    },
    {
     "data": {
      "text/plain": [
       "\"Unfortunately, I was not able to answer your question, because of the following error:\\n\\n'Index' object has no attribute '_format_native_types'\\n\""
      ]
     },
     "execution_count": 133,
     "metadata": {},
     "output_type": "execute_result"
    }
   ],
   "source": [
    "agent.chat(\"what is the quantity of BrandName KING FISHER STRONG?\")"
   ]
  },
  {
   "cell_type": "code",
   "execution_count": 134,
   "id": "75ef45f8-4156-40d1-9b3f-54c18af9944c",
   "metadata": {},
   "outputs": [
    {
     "ename": "NameError",
     "evalue": "name 'PandasAI' is not defined",
     "output_type": "error",
     "traceback": [
      "\u001b[0;31m---------------------------------------------------------------------------\u001b[0m",
      "\u001b[0;31mNameError\u001b[0m                                 Traceback (most recent call last)",
      "Cell \u001b[0;32mIn[134], line 4\u001b[0m\n\u001b[1;32m      1\u001b[0m \u001b[38;5;28;01mfrom\u001b[39;00m \u001b[38;5;21;01mpandasai\u001b[39;00m\u001b[38;5;21;01m.\u001b[39;00m\u001b[38;5;21;01mllm\u001b[39;00m\u001b[38;5;21;01m.\u001b[39;00m\u001b[38;5;21;01mopenai\u001b[39;00m \u001b[38;5;28;01mimport\u001b[39;00m OpenAI\n\u001b[1;32m      2\u001b[0m llm \u001b[38;5;241m=\u001b[39m OpenAI(api_token\u001b[38;5;241m=\u001b[39mapi_key)\n\u001b[0;32m----> 4\u001b[0m pandas_ai \u001b[38;5;241m=\u001b[39m PandasAI(llm)\n\u001b[1;32m      5\u001b[0m pandas_ai(df, prompt\u001b[38;5;241m=\u001b[39m\u001b[38;5;124m\"\u001b[39m\u001b[38;5;124mwhat is the quantity of BrandName KING FISHER STRONG?\u001b[39m\u001b[38;5;124m\"\u001b[39m)\n",
      "\u001b[0;31mNameError\u001b[0m: name 'PandasAI' is not defined"
     ]
    }
   ],
   "source": [
    "from pandasai.llm.openai import OpenAI\n",
    "llm = OpenAI(api_token=api_key)\n",
    "\n",
    "pandas_ai = PandasAI(llm)\n",
    "pandas_ai(df, prompt=\"what is the quantity of BrandName KING FISHER STRONG?\")\n",
    "\n"
   ]
  },
  {
   "cell_type": "code",
   "execution_count": 135,
   "id": "228c89f9-66ae-4786-972f-c1b24264e8d4",
   "metadata": {},
   "outputs": [
    {
     "name": "stderr",
     "output_type": "stream",
     "text": [
      "Traceback (most recent call last):\n",
      "  File \"/opt/anaconda3/lib/python3.12/site-packages/pandasai/pipelines/chat/generate_chat_pipeline.py\", line 335, in run\n",
      "    ).run(input)\n",
      "      ^^^^^^^^^^\n",
      "  File \"/opt/anaconda3/lib/python3.12/site-packages/pandasai/pipelines/pipeline.py\", line 137, in run\n",
      "    raise e\n",
      "  File \"/opt/anaconda3/lib/python3.12/site-packages/pandasai/pipelines/pipeline.py\", line 101, in run\n",
      "    step_output = logic.execute(\n",
      "                  ^^^^^^^^^^^^^^\n",
      "  File \"/opt/anaconda3/lib/python3.12/site-packages/pandasai/pipelines/chat/prompt_generation.py\", line 37, in execute\n",
      "    self.logger.log(f\"Using prompt: {prompt}\")\n",
      "                                    ^^^^^^^^\n",
      "  File \"/opt/anaconda3/lib/python3.12/site-packages/pandasai/prompts/base.py\", line 55, in __str__\n",
      "    return self.to_string()\n",
      "           ^^^^^^^^^^^^^^^^\n",
      "  File \"/opt/anaconda3/lib/python3.12/site-packages/pandasai/prompts/base.py\", line 50, in to_string\n",
      "    self._resolved_prompt = self.prompt.render(**self.props)\n",
      "                            ^^^^^^^^^^^^^^^^^^^^^^^^^^^^^^^^\n",
      "  File \"/opt/anaconda3/lib/python3.12/site-packages/jinja2/environment.py\", line 1304, in render\n",
      "    self.environment.handle_exception()\n",
      "  File \"/opt/anaconda3/lib/python3.12/site-packages/jinja2/environment.py\", line 939, in handle_exception\n",
      "    raise rewrite_traceback_stack(source=source)\n",
      "  File \"/opt/anaconda3/lib/python3.12/site-packages/pandasai/prompts/templates/generate_python_code.tmpl\", line 1, in top-level template code\n",
      "    {% for df in context.dfs %}{% set index = loop.index %}{% include 'shared/dataframe.tmpl' with context %}{% endfor %}\n",
      "    ^^^^^^^^^^^^^^^^^^^^^^^^^\n",
      "  File \"/opt/anaconda3/lib/python3.12/site-packages/pandasai/prompts/templates/shared/dataframe.tmpl\", line 1, in top-level template code\n",
      "    {{ df.to_string(index-1, context.config.direct_sql, context.config.dataframe_serializer, context.config.enforce_privacy) }}\n",
      "    ^^^^^^^^^^^^^^^^^^^^^^^^^\n",
      "  File \"/opt/anaconda3/lib/python3.12/site-packages/pandasai/connectors/base.py\", line 284, in to_string\n",
      "    return DataframeSerializer().serialize(\n",
      "           ^^^^^^^^^^^^^^^^^^^^^^^^^^^^^^^^\n",
      "  File \"/opt/anaconda3/lib/python3.12/site-packages/pandasai/helpers/dataframe_serializer.py\", line 33, in serialize\n",
      "    return self.convert_df_to_csv(df, extras)\n",
      "           ^^^^^^^^^^^^^^^^^^^^^^^^^^^^^^^^^^\n",
      "  File \"/opt/anaconda3/lib/python3.12/site-packages/pandasai/helpers/dataframe_serializer.py\", line 58, in convert_df_to_csv\n",
      "    dataframe_info += f\"\\ndfs[{extras['index']}]:{df.rows_count}x{df.columns_count}\\n{df.to_csv()}\"\n",
      "                                                                                      ^^^^^^^^^^^\n",
      "  File \"/opt/anaconda3/lib/python3.12/site-packages/pandasai/connectors/base.py\", line 265, in to_csv\n",
      "    return self.get_head().to_csv(index=False)\n",
      "           ^^^^^^^^^^^^^^^^^^^^^^^^^^^^^^^^^^^\n",
      "  File \"/opt/anaconda3/lib/python3.12/site-packages/pandas/util/_decorators.py\", line 333, in wrapper\n",
      "    # error: \"Callable[[VarArg(Any), KwArg(Any)], Any]\" has no\n",
      "               ^^^^^^^^^^^^^^^^^^^^^\n",
      "  File \"/opt/anaconda3/lib/python3.12/site-packages/pandas/core/generic.py\", line 3967, in to_csv\n",
      "    class  animal  locomotion\n",
      "           ^^^^^^^^^^^^^^^^^^\n",
      "  File \"/opt/anaconda3/lib/python3.12/site-packages/pandas/io/formats/format.py\", line 995, in to_csv\n",
      "    if self.header:\n",
      "                    \n",
      "  File \"/opt/anaconda3/lib/python3.12/site-packages/pandas/io/formats/csvs.py\", line 89, in __init__\n",
      "    self.cols = self._initialize_columns(cols)\n",
      "                ^^^^^^^^^^^^^^^^^^^^^^^^^^^^^^\n",
      "  File \"/opt/anaconda3/lib/python3.12/site-packages/pandas/io/formats/csvs.py\", line 161, in _initialize_columns\n",
      "    return new_cols._format_native_types(**self._number_format)\n",
      "           ^^^^^^^^^^^^^^^^^^^^^^^^^^^^^\n",
      "AttributeError: 'Index' object has no attribute '_format_native_types'\n"
     ]
    },
    {
     "data": {
      "text/plain": [
       "\"Unfortunately, I was not able to answer your question, because of the following error:\\n\\n'Index' object has no attribute '_format_native_types'\\n\""
      ]
     },
     "execution_count": 135,
     "metadata": {},
     "output_type": "execute_result"
    }
   ],
   "source": [
    "import os\n",
    "import pandas as pd\n",
    "from pandasai import Agent\n",
    "\n",
    "# Sample DataFrame\n",
    "sales_by_country = pd.DataFrame({\n",
    "    \"country\": [\"United States\", \"United Kingdom\", \"France\", \"Germany\", \"Italy\", \"Spain\", \"Canada\", \"Australia\", \"Japan\", \"China\"],\n",
    "    \"revenue\": [5000, 3200, 2900, 4100, 2300, 2100, 2500, 2600, 4500, 7000]\n",
    "})\n",
    "\n",
    "# By default, unless you choose a different LLM, it will use BambooLLM.\n",
    "# You can get your free API key signing up at https://pandabi.ai (you can also configure it in your .env file)\n",
    "os.environ[\"PANDASAI_API_KEY\"] = pandasai_api_key\n",
    "\n",
    "agent = Agent(sales_by_country)\n",
    "agent.chat('Which are the top 5 countries by sales?')"
   ]
  },
  {
   "cell_type": "code",
   "execution_count": null,
   "id": "3dec376b-7f07-49fd-8cea-e1862d57765b",
   "metadata": {},
   "outputs": [],
   "source": []
  }
 ],
 "metadata": {
  "kernelspec": {
   "display_name": "tabularbot",
   "language": "python",
   "name": "tabularbot"
  },
  "language_info": {
   "codemirror_mode": {
    "name": "ipython",
    "version": 3
   },
   "file_extension": ".py",
   "mimetype": "text/x-python",
   "name": "python",
   "nbconvert_exporter": "python",
   "pygments_lexer": "ipython3",
   "version": "3.12.4"
  }
 },
 "nbformat": 4,
 "nbformat_minor": 5
}
